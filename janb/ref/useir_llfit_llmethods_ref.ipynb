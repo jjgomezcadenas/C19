{
 "cells": [
  {
   "cell_type": "markdown",
   "metadata": {
    "slideshow": {
     "slide_type": "-"
    },
    "toc-hr-collapsed": true
   },
   "source": [
    "# uSEIR LL- fit with different minimize methods \n",
    "\n",
    "Use a different fitting engine, compare them\n",
    "\n",
    "Date:  27 May 2020\n",
    "Author:   J.A. Hernando"
   ]
  },
  {
   "cell_type": "code",
   "execution_count": 1,
   "metadata": {},
   "outputs": [
    {
     "name": "stdout",
     "output_type": "stream",
     "text": [
      "Last updated on  Wed May 27 17:12:09 2020\n"
     ]
    }
   ],
   "source": [
    "import os\n",
    "import sys\n",
    "import glob\n",
    "import time\n",
    "import warnings\n",
    "import datetime \n",
    "print(\"Last updated on \", time.asctime())"
   ]
  },
  {
   "cell_type": "code",
   "execution_count": 2,
   "metadata": {},
   "outputs": [],
   "source": [
    "import numpy as np\n",
    "import pandas as pd\n",
    "import matplotlib"
   ]
  },
  {
   "cell_type": "code",
   "execution_count": 3,
   "metadata": {},
   "outputs": [],
   "source": [
    "%matplotlib inline\n",
    "%load_ext autoreload\n",
    "%autoreload 2\n",
    "import matplotlib.pyplot as plt\n",
    "from matplotlib.pyplot import imshow"
   ]
  },
  {
   "cell_type": "code",
   "execution_count": 4,
   "metadata": {},
   "outputs": [],
   "source": [
    "## mathplotlib configuration\n",
    "plt.style.context('seaborn-colorblind');"
   ]
  },
  {
   "cell_type": "code",
   "execution_count": 5,
   "metadata": {},
   "outputs": [],
   "source": [
    "import scipy.stats  as stats\n",
    "\n",
    "from scipy.integrate import odeint\n",
    "import scipy.integrate as spi\n",
    "from scipy.interpolate import interp1d"
   ]
  },
  {
   "cell_type": "code",
   "execution_count": 6,
   "metadata": {},
   "outputs": [],
   "source": [
    "import c19.useir            as us\n",
    "import c19.useir_ana        as usa\n",
    "import c19.kfmysir          as kf\n",
    "import c19.cfit             as cfit"
   ]
  },
  {
   "cell_type": "code",
   "execution_count": 7,
   "metadata": {},
   "outputs": [],
   "source": [
    "import warnings\n",
    "warnings.filterwarnings(\"ignore\")"
   ]
  },
  {
   "cell_type": "code",
   "execution_count": 8,
   "metadata": {},
   "outputs": [],
   "source": [
    "import iminuit             as im"
   ]
  },
  {
   "cell_type": "code",
   "execution_count": 9,
   "metadata": {},
   "outputs": [],
   "source": [
    "## Testing iminuit"
   ]
  },
  {
   "cell_type": "markdown",
   "metadata": {
    "toc-hr-collapsed": true
   },
   "source": [
    "## uSEIR"
   ]
  },
  {
   "cell_type": "markdown",
   "metadata": {
    "toc-hr-collapsed": true
   },
   "source": [
    "### generation"
   ]
  },
  {
   "cell_type": "code",
   "execution_count": 10,
   "metadata": {},
   "outputs": [
    {
     "name": "stdout",
     "output_type": "stream",
     "text": [
      "R0, TR, TI  3.0 5.0 5.5\n"
     ]
    }
   ],
   "source": [
    "Beta, TR, TI, N, PhiM = 3./5., 5., 5.5, 1e6, 0.1\n",
    "R0  = Beta * TR\n",
    "print('R0, TR, TI ', R0, TR, TI)"
   ]
  },
  {
   "cell_type": "code",
   "execution_count": 13,
   "metadata": {},
   "outputs": [
    {
     "data": {
      "image/png": "[encoded data removed]",
      "text/plain": [
       "<Figure size 432x288 with 1 Axes>"
      ]
     },
     "metadata": {
      "needs_background": "light"
     },
     "output_type": "display_data"
    }
   ],
   "source": [
    "ufun = us._useir\n",
    "pars = (R0, TR)\n",
    "mask = (True, True)\n",
    "times, xdata = us.rvs(pars, ufun = ufun)\n",
    "xs, ys = xdata\n",
    "\n",
    "usa.plot_fit_data(xdata, pars, ufun = ufun)"
   ]
  },
  {
   "cell_type": "markdown",
   "metadata": {
    "toc-hr-collapsed": true
   },
   "source": [
    "### test different engine minimize"
   ]
  },
  {
   "cell_type": "code",
   "execution_count": 14,
   "metadata": {},
   "outputs": [
    {
     "name": "stdout",
     "output_type": "stream",
     "text": [
      "CG\n",
      "mle: warning\n",
      "true (3.0, 5.0) , guess  [3. 5.] , best  [2.93534366 4.72547714]\n",
      "f best  72924.87751247174 , f true  72928.1332083443 , f delta  3.2556958725617733\n",
      "Minuit\n",
      "true (3.0, 5.0) , guess  [3. 5.] , best  [2.93528404 4.7252075 ]\n",
      "f best  72924.87751255033 , f true  72928.1332083443 , f delta  3.255695793966879\n",
      "Nelder-Mead\n",
      "true (3.0, 5.0) , guess  [3. 5.] , best  [2.93526929 4.72512629]\n",
      "f best  72924.87751192675 , f true  72928.1332083443 , f delta  3.2556964175455505\n",
      "BFGS\n",
      "mle: warning\n",
      "true (3.0, 5.0) , guess  [3. 5.] , best  [2.93523996 4.72498526]\n",
      "f best  72924.87751205445 , f true  72928.1332083443 , f delta  3.2556962898524944\n",
      "Powell\n",
      "true (3.0, 5.0) , guess  [3. 5.] , best  [2.99382621 4.99957081]\n",
      "f best  72925.26942314586 , f true  72928.1332083443 , f delta  2.8637851984385634\n"
     ]
    },
    {
     "data": {
      "image/png": "[encoded data removed]",
      "text/plain": [
       "<Figure size 432x288 with 1 Axes>"
      ]
     },
     "metadata": {
      "needs_background": "light"
     },
     "output_type": "display_data"
    }
   ],
   "source": [
    "fmle   = us.mll(xdata, ufun = ufun)\n",
    "xpars  = usa.fit_setpars(pars, (R0, TR), mask)\n",
    "methods = ['CG', 'Minuit', 'Nelder-Mead', 'BFGS', 'Powell']\n",
    "for method in methods:\n",
    "    parshat = usa.fit_ana(fmle, xpars, pars, mask, method = method)\n",
    "    usa.plot_fit_data(xdata, parshat, ufun = ufun)"
   ]
  },
  {
   "cell_type": "markdown",
   "metadata": {},
   "source": [
    "move now the initial parameters"
   ]
  },
  {
   "cell_type": "code",
   "execution_count": 15,
   "metadata": {},
   "outputs": [
    {
     "name": "stdout",
     "output_type": "stream",
     "text": [
      "CG\n",
      "true (3.0, 5.0) , guess  [2. 7.] , best  [ 37.54302677 -20.45434759]\n",
      "f best  0.0 , f true  72928.1332083443 , f delta  72928.1332083443\n",
      "Nelder-Mead\n",
      "true (3.0, 5.0) , guess  [2. 7.] , best  [2.93528451 4.72519699]\n",
      "f best  72924.87751192153 , f true  72928.1332083443 , f delta  3.255696422769688\n",
      "BFGS\n",
      "true (3.0, 5.0) , guess  [2. 7.] , best  [ 4.43022524 -3.74075721]\n",
      "f best  0.0 , f true  72928.1332083443 , f delta  72928.1332083443\n",
      "Powell\n",
      "true (3.0, 5.0) , guess  [2. 7.] , best  [3.45850582 7.00853982]\n",
      "f best  72949.21054697309 , f true  72928.1332083443 , f delta  -21.07733862879104\n",
      "Minuit\n",
      "true (3.0, 5.0) , guess  [2. 7.] , best  [2.93539888 4.72574218]\n",
      "f best  72924.87751378941 , f true  72928.1332083443 , f delta  3.2556945548858494\n"
     ]
    },
    {
     "data": {
      "image/png": "[encoded data removed]",
      "text/plain": [
       "<Figure size 432x288 with 1 Axes>"
      ]
     },
     "metadata": {
      "needs_background": "light"
     },
     "output_type": "display_data"
    }
   ],
   "source": [
    "fmle   = us.mll(xdata, ufun = ufun)\n",
    "xpars  = usa.fit_setpars(pars, (R0 - 1, TR + 2), mask)\n",
    "methods = ['CG', 'Nelder-Mead', 'BFGS', 'Powell', 'Minuit']\n",
    "for method in methods:\n",
    "    parshat = usa.fit_ana(fmle, xpars, pars, mask, method = method)\n",
    "    usa.plot_fit_data(xdata, parshat, ufun = ufun)"
   ]
  },
  {
   "cell_type": "code",
   "execution_count": 16,
   "metadata": {},
   "outputs": [
    {
     "name": "stdout",
     "output_type": "stream",
     "text": [
      "CG\n",
      "mle: warning\n",
      "true (3.0, 5.0) , guess  [4. 7.] , best  [3.5268147  7.14583011]\n",
      "f best  73005.24922947012 , f true  72928.1332083443 , f delta  -77.11602112582477\n",
      "Nelder-Mead\n",
      "true (3.0, 5.0) , guess  [4. 7.] , best  [2.93528858 4.72521434]\n",
      "f best  72924.87751193874 , f true  72928.1332083443 , f delta  3.2556964055547724\n",
      "BFGS\n",
      "true (3.0, 5.0) , guess  [4. 7.] , best  [ -33.73115294 -111.74698964]\n",
      "f best  0.0 , f true  72928.1332083443 , f delta  72928.1332083443\n",
      "Powell\n",
      "true (3.0, 5.0) , guess  [4. 7.] , best  [3.4549447 6.9906516]\n",
      "f best  72948.88650202556 , f true  72928.1332083443 , f delta  -20.75329368126404\n",
      "Minuit\n",
      "true (3.0, 5.0) , guess  [4. 7.] , best  [2.9352503  4.72502179]\n",
      "f best  72924.87751254952 , f true  72928.1332083443 , f delta  3.2556957947817864\n"
     ]
    },
    {
     "data": {
      "image/png": "[encoded data removed]",
      "text/plain": [
       "<Figure size 432x288 with 1 Axes>"
      ]
     },
     "metadata": {
      "needs_background": "light"
     },
     "output_type": "display_data"
    }
   ],
   "source": [
    "fmle   = us.mll(xdata, ufun = ufun)\n",
    "xpars  = usa.fit_setpars(pars, (R0 + 1, TR + 2), mask)\n",
    "methods = ['CG', 'Nelder-Mead', 'BFGS', 'Powell', 'Minuit']\n",
    "for method in methods:\n",
    "    parshat = usa.fit_ana(fmle, xpars, pars, mask, method = method)\n",
    "    usa.plot_fit_data(xdata, parshat, ufun = ufun)"
   ]
  },
  {
   "cell_type": "markdown",
   "metadata": {
    "toc-hr-collapsed": true
   },
   "source": [
    "## Conclusions\n",
    "\n",
    "- The different methods by default works with the true parameters as initial guess \n",
    "\n",
    "- Minuit and Nelder-Meas show similar results\n",
    "\n",
    "- Powell, CG and BFGS give problems when the initial guess is not the true. Maybe some parameters need to be tuned."
   ]
  },
  {
   "cell_type": "code",
   "execution_count": null,
   "metadata": {},
   "outputs": [],
   "source": []
  }
 ],
 "metadata": {
  "kernelspec": {
   "display_name": "Python 3",
   "language": "python",
   "name": "python3"
  },
  "language_info": {
   "codemirror_mode": {
    "name": "ipython",
    "version": 3
   },
   "file_extension": ".py",
   "mimetype": "text/x-python",
   "name": "python",
   "nbconvert_exporter": "python",
   "pygments_lexer": "ipython3",
   "version": "3.7.3"
  },
  "toc-autonumbering": true,
  "toc-showcode": true
 },
 "nbformat": 4,
 "nbformat_minor": 4
}
